{
 "cells": [
  {
   "cell_type": "code",
   "execution_count": null,
   "metadata": {},
   "outputs": [],
   "source": [
    "# Importa as bibliotecas\n",
    "import numpy as np\n",
    "import pandas as pd\n",
    "import plotly.express as px\n",
    "from plotly.subplots import make_subplots\n",
    "import plotly.graph_objects as go\n",
    "import matplotlib.pyplot as plt\n",
    "import seaborn as sns\n",
    "\n",
    "try:\n",
    "    import yfinance as yf\n",
    "    yf.pdr_override()\n",
    "except:\n",
    "    !pip install yfinance\n",
    "try:\n",
    "    from matplotlib import pyplot as plt\n",
    "except:    \n",
    "    !pip install -U matplotlib\n",
    "\n",
    "try:\n",
    "    import six\n",
    "    import sys\n",
    "    sys.modules['sklearn.externals.six'] = six\n",
    "    import mlrose\n",
    "except:\n",
    "    !pip install mlrose\n",
    "\n",
    "    "
   ]
  },
  {
   "cell_type": "markdown",
   "metadata": {},
   "source": [
    "# Otimização"
   ]
  },
  {
   "cell_type": "code",
   "execution_count": null,
   "metadata": {},
   "outputs": [],
   "source": [
    "# Busca os preços das ações\n",
    "## Define as ações\n",
    "assets = ['PETR4.SA','VALE3.SA','ITUB4.SA','ABEV3.SA','BBDC4.SA','BBAS3.SA','WEGE3.SA','BPAC11.SA','SANB11.SA','ITSA4.SA']\n",
    "\n",
    "## Define as datas  ---- PRIMEIRO PERÍODO\n",
    "start = '2022-01-01'\n",
    "end = '2022-12-31'\n",
    "\n",
    "# Busca os preços ajustados\n",
    "prices = yf.download(assets, start = start, end = end)['Adj Close']"
   ]
  },
  {
   "cell_type": "code",
   "execution_count": null,
   "metadata": {},
   "outputs": [],
   "source": [
    "# Plata o Histórico de Preços\n",
    "\n",
    "px.line(prices, width=1100)"
   ]
  },
  {
   "cell_type": "code",
   "execution_count": null,
   "metadata": {},
   "outputs": [],
   "source": [
    "# Calcula os retornos e retira dados faltantes\n",
    "returns = prices.pct_change().dropna()\n",
    "returns"
   ]
  },
  {
   "cell_type": "code",
   "execution_count": null,
   "metadata": {},
   "outputs": [],
   "source": [
    "# Plotando a matriz de correlação em um mapa de calor:\n",
    "\n",
    "px.imshow(returns.corr(), title = 'Matriz de Correlação', text_auto=True, height=900, width=850 , color_continuous_scale='viridis')"
   ]
  },
  {
   "cell_type": "code",
   "execution_count": null,
   "metadata": {},
   "outputs": [],
   "source": [
    "# Simulação de Monte Carlo\n",
    "\n",
    "def generate_wallets(df, num_portfolios = 100000, risk_free = 0.1325):\n",
    "    # vetores de dados\n",
    "    portfolio_weights = []\n",
    "    portfolio_exp_returns = []\n",
    "    portfolio_vol = []\n",
    "    portfolio_sharpe = []\n",
    "\n",
    "    # retorno simples \n",
    "    r = df.pct_change()\n",
    "    mean_returns = r.mean() * 252\n",
    "\n",
    "    # matriz de covariância \n",
    "    covariance = np.cov(r[1:].T)\n",
    "\n",
    "    for i in range(num_portfolios):\n",
    "        # gerando pesos aleatórios\n",
    "        k = np.random.rand(len(df.columns))\n",
    "        w = k / sum (k)\n",
    "\n",
    "        # retorno\n",
    "        R = np.dot(mean_returns, w)\n",
    "\n",
    "        # risco\n",
    "        vol = np.sqrt(np.dot(w.T, np.dot(covariance, w))) * np.sqrt(252)\n",
    "\n",
    "        # sharpe ratio\n",
    "        sharpe = (R - risk_free)/vol\n",
    "\n",
    "        portfolio_weights.append(w)\n",
    "        portfolio_exp_returns.append(R)\n",
    "        portfolio_vol.append(vol)\n",
    "        portfolio_sharpe.append(sharpe)\n",
    "\n",
    "    wallets = {'weights': portfolio_weights,\n",
    "              'returns': portfolio_exp_returns,\n",
    "              'vol':portfolio_vol,\n",
    "              'sharpe': portfolio_sharpe}\n",
    "\n",
    "    return wallets"
   ]
  },
  {
   "cell_type": "code",
   "execution_count": null,
   "metadata": {},
   "outputs": [],
   "source": [
    "# Melhor carteira dentre as simulações\n",
    "\n",
    "def best_portfolio(wallets):\n",
    "    sharpe = wallets['sharpe']\n",
    "    weights = wallets['weights']\n",
    "    \n",
    "    indice = np.array(sharpe).argmax()\n",
    "    return weights[indice], sharpe[indice]"
   ]
  },
  {
   "cell_type": "code",
   "execution_count": null,
   "metadata": {},
   "outputs": [],
   "source": [
    "# Executando as simulações e encontrando a Carteira Otimizada Randomicamente\n",
    "\n",
    "wallets = generate_wallets(prices)\n",
    "best_portfolio(wallets)"
   ]
  },
  {
   "cell_type": "code",
   "execution_count": null,
   "metadata": {},
   "outputs": [],
   "source": [
    "# Salvando Carteira Otimizada Randomicamente\n",
    "\n",
    "pesos = pd.DataFrame()\n",
    "pesos['assets'] = prices.columns\n",
    "pesos['weights'] = best_portfolio(wallets)[0]\n",
    "pesos.to_csv('pesos.csv')"
   ]
  },
  {
   "cell_type": "code",
   "execution_count": null,
   "metadata": {},
   "outputs": [],
   "source": [
    "# Plota a Carteira Otimizada Randomicamente\n",
    "\n",
    "px.pie(pesos, title = 'Composição da Carteira Otimizada Randomicamente', names= 'assets',values= 'weights', width=600, color_discrete_sequence=px.colors.sequential.Viridis_r)"
   ]
  },
  {
   "cell_type": "code",
   "execution_count": null,
   "metadata": {},
   "outputs": [],
   "source": [
    "# Plota a fronteira eficiente de ativos\n",
    "\n",
    "def plot_efficient_frontier(wallets):\n",
    "    vol = wallets['vol']\n",
    "    returns = wallets['returns']\n",
    "    sharpe = wallets['sharpe']\n",
    "\n",
    "    indice = np.array(sharpe).argmax()\n",
    "    y_axis = returns[indice]\n",
    "    X_axis = vol[indice]\n",
    "\n",
    "    grafico = px.scatter(wallets,x='vol', y='returns', color='sharpe', color_continuous_scale='viridis', height=650, width=1220)\n",
    "    grafico.update_layout(xaxis_title = 'Volatilidade', yaxis_title = 'Retorno Experado')\n",
    "    grafico.show()"
   ]
  },
  {
   "cell_type": "code",
   "execution_count": null,
   "metadata": {},
   "outputs": [],
   "source": [
    "# Chamada da função de plotagem com as carteiras geradas randomicamente\n",
    "\n",
    "plot_efficient_frontier(wallets)"
   ]
  },
  {
   "cell_type": "markdown",
   "metadata": {},
   "source": [
    "## Algoritimos de Otimização"
   ]
  },
  {
   "cell_type": "code",
   "execution_count": null,
   "metadata": {},
   "outputs": [],
   "source": [
    "#Função fitness, requisito da otimização via mlrose\n",
    "\n",
    "def fitness_function(solucao):\n",
    "    # retorno simples \n",
    "    r = returns\n",
    "    mean_returns = r.mean() * 252\n",
    "\n",
    "    # matriz de covariância \n",
    "    covariance = np.cov(r[1:].T)\n",
    "\n",
    "    # gerando pesos aleatórios\n",
    "    k = solucao\n",
    "    w = k / sum (k)\n",
    "\n",
    "    # retorno\n",
    "    R = np.dot(mean_returns, w)\n",
    "\n",
    "    # risco\n",
    "    vol = np.sqrt(np.dot(w.T, np.dot(covariance, w))) * np.sqrt(252)\n",
    "  \n",
    "    # sharpe ratio\n",
    "\n",
    "    risk_free = 0.1325\n",
    "    sharpe = (R - risk_free)/vol\n",
    "\n",
    "    return sharpe\n",
    "\n",
    "fitness = mlrose.CustomFitness(fitness_function)"
   ]
  },
  {
   "cell_type": "code",
   "execution_count": null,
   "metadata": {},
   "outputs": [],
   "source": [
    "# Problema de maximização\n",
    "\n",
    "problema_maximizacao = mlrose.ContinuousOpt(length=10, fitness_fn=fitness,\n",
    "                                            maximize = True, min_val = 0, max_val = 1)"
   ]
  },
  {
   "cell_type": "code",
   "execution_count": null,
   "metadata": {},
   "outputs": [],
   "source": [
    "# Passa os reultados dos pesos para percentual\n",
    "\n",
    "def alocation_normalize(solution):\n",
    "  solution = solution / solution.sum()\n",
    "  return solution"
   ]
  },
  {
   "cell_type": "markdown",
   "metadata": {},
   "source": [
    "## Hill Climb"
   ]
  },
  {
   "cell_type": "code",
   "execution_count": null,
   "metadata": {},
   "outputs": [],
   "source": [
    "# Obtém a Carteira Otimizada pelo algoritmo Hill Climb\n",
    "\n",
    "hill_climb_weights, hill_climb_sharpe = mlrose.hill_climb(problema_maximizacao, random_state = 1)\n",
    "hill_climb_weights = alocation_normalize(hill_climb_weights)\n",
    "hill_climb_weights, hill_climb_sharpe"
   ]
  },
  {
   "cell_type": "code",
   "execution_count": null,
   "metadata": {},
   "outputs": [],
   "source": [
    "# Salva Carteira Otimizada pelo algoritmo Hill Climb\n",
    "\n",
    "pesos_hill_climb = pd.DataFrame()\n",
    "pesos_hill_climb['assets'] = prices.columns\n",
    "pesos_hill_climb['weights'] = hill_climb_weights\n",
    "pesos_hill_climb.to_csv('pesos_hill_climb.csv')\n",
    "pesos_hill_climb"
   ]
  },
  {
   "cell_type": "code",
   "execution_count": null,
   "metadata": {},
   "outputs": [],
   "source": [
    "# Plota a Carteira Otimizada pelo algoritmo Hill Climb\n",
    "\n",
    "px.pie(pesos_hill_climb, title = 'Composição da Carteira Otimizada - Hill Climb', names= 'assets',values= 'weights', width=600, color_discrete_sequence=px.colors.sequential.Viridis_r)"
   ]
  },
  {
   "cell_type": "markdown",
   "metadata": {},
   "source": [
    "## Simulated Annealing"
   ]
  },
  {
   "cell_type": "code",
   "execution_count": null,
   "metadata": {},
   "outputs": [],
   "source": [
    "# Obtém a Carteira Otimizada pelo algoritmo Simulated Annealing\n",
    "\n",
    "simulated_annealing_weights, simulated_annealing_sharpe = mlrose.simulated_annealing(problema_maximizacao, random_state=1)\n",
    "simulated_annealing_weights = alocation_normalize(simulated_annealing_weights)\n",
    "simulated_annealing_weights, simulated_annealing_sharpe"
   ]
  },
  {
   "cell_type": "code",
   "execution_count": null,
   "metadata": {},
   "outputs": [],
   "source": [
    "# Salva a Carteira Otimizada pelo algoritmo Simulated Annealing\n",
    "\n",
    "pesos_sa = pd.DataFrame()\n",
    "pesos_sa['assets'] = prices.columns\n",
    "pesos_sa['weights'] = simulated_annealing_weights\n",
    "pesos_sa.to_csv('pesos_sa.csv')\n",
    "pesos_sa"
   ]
  },
  {
   "cell_type": "code",
   "execution_count": null,
   "metadata": {},
   "outputs": [],
   "source": [
    "# Plota a Carteira Otimizada pelo algoritmo Simulated Annealing\n",
    "\n",
    "px.pie(pesos_sa, title = 'Composição da Carteira Otimizada - Simulated Annealing', names= 'assets',values= 'weights', width=600, color_discrete_sequence=px.colors.sequential.Viridis_r)"
   ]
  },
  {
   "cell_type": "markdown",
   "metadata": {},
   "source": [
    "## Genetic Alg"
   ]
  },
  {
   "cell_type": "code",
   "execution_count": null,
   "metadata": {},
   "outputs": [],
   "source": [
    "# Fitness function compatível com o Genetic Alg\n",
    "\n",
    "def fitness_function_ag(solucao):\n",
    "    # retorno simples \n",
    "    r = returns\n",
    "    mean_returns = r.mean() * 252\n",
    "\n",
    "    # matriz de covariância \n",
    "    covariance = np.cov(r[1:].T)\n",
    "\n",
    "    # gerando pesos aleatórios\n",
    "    k = solucao\n",
    "    w = k / sum (k)\n",
    "\n",
    "    # retorno\n",
    "    R = np.dot(mean_returns, w)\n",
    "\n",
    "    # risco\n",
    "    vol = np.sqrt(np.dot(w.T, np.dot(covariance, w))) * np.sqrt(252)\n",
    "  \n",
    "    # sharpe ratio\n",
    "\n",
    "    risk_free = 0.1325\n",
    "    sharpe = (R - risk_free)/vol\n",
    "\n",
    "    if sharpe > 0:\n",
    "        return sharpe\n",
    "    else:\n",
    "        return 0\n",
    "\n",
    "\n",
    "fitness_ag = mlrose.CustomFitness(fitness_function_ag)\n",
    "\n",
    "problema_maximizacao_ag = mlrose.ContinuousOpt(length=10, fitness_fn=fitness_ag,\n",
    "                                            maximize = True, min_val = 0, max_val = 1)\n"
   ]
  },
  {
   "cell_type": "code",
   "execution_count": null,
   "metadata": {},
   "outputs": [],
   "source": [
    "# Obtém a Carteira Otimizada pelo Algoritmo Genético\n",
    "\n",
    "genetic_alg_weights, genetic_alg_sharpe =  mlrose.genetic_alg(problema_maximizacao_ag, random_state = 1)\n",
    "genetic_alg_weights = alocation_normalize(genetic_alg_weights)\n",
    "genetic_alg_weights, genetic_alg_sharpe"
   ]
  },
  {
   "cell_type": "code",
   "execution_count": null,
   "metadata": {},
   "outputs": [],
   "source": [
    "# Salva a Carteira Otimizada pelo Algoritmo Genético\n",
    "\n",
    "pesos_ga = pd.DataFrame()\n",
    "pesos_ga['assets'] = prices.columns\n",
    "pesos_ga['weights'] = genetic_alg_weights\n",
    "pesos_ga.to_csv('pesos_ga.csv')\n",
    "pesos_ga"
   ]
  },
  {
   "cell_type": "code",
   "execution_count": null,
   "metadata": {},
   "outputs": [],
   "source": [
    "# Plota a Carteira Otimizada pelo Algoritmo Genético\n",
    "\n",
    "px.pie(pesos_ga, title = 'Composição da Carteira Otimizada - Algorítmo Genético', names= 'assets',values= 'weights', width=600, color_discrete_sequence=px.colors.sequential.Viridis_r)"
   ]
  },
  {
   "cell_type": "markdown",
   "metadata": {},
   "source": [
    "# Verificação de Desempenho"
   ]
  },
  {
   "cell_type": "code",
   "execution_count": null,
   "metadata": {},
   "outputs": [],
   "source": [
    "# Busca os preços das ações\n",
    "## Define as ações\n",
    "assets = ['PETR4.SA','VALE3.SA','ITUB4.SA','ABEV3.SA','BBDC4.SA','BBAS3.SA','WEGE3.SA','BPAC11.SA','SANB11.SA','ITSA4.SA']\n",
    "\n",
    "## Define as datas  ---- SEGUNDO PERÍODO  \n",
    "start = '2023-01-01'\n",
    "end = '2023-12-31'\n",
    "\n",
    "# Busca os preços ajustados\n",
    "prices = yf.download(assets, start = start, end = end)['Adj Close']\n",
    "prices"
   ]
  },
  {
   "cell_type": "code",
   "execution_count": null,
   "metadata": {},
   "outputs": [],
   "source": [
    "# Calcula os retornos e retira dados faltantes\n",
    "returns = prices.pct_change().dropna()\n",
    "returns"
   ]
  },
  {
   "cell_type": "code",
   "execution_count": null,
   "metadata": {},
   "outputs": [],
   "source": [
    "def calculaEvolucao (carteira, initial_money=10000):\n",
    "    pesos = carteira['weights'].array\n",
    "    initial_money = initial_money\n",
    "\n",
    "    qtd = (pesos * initial_money / prices.head(1)).values\n",
    "\n",
    "    evolucao = qtd * prices\n",
    "    evolucao['Carteira'] = evolucao.sum(axis=1)\n",
    "\n",
    "    final_money = evolucao['Carteira'].tail(1).values.sum()\n",
    "\n",
    "    return evolucao['Carteira']"
   ]
  },
  {
   "cell_type": "code",
   "execution_count": null,
   "metadata": {},
   "outputs": [],
   "source": [
    "# Carregando as carteiras otmizadas\n",
    "\n",
    "carteira_randomica = calculaEvolucao (pd.read_csv('pesos.csv'))\n",
    "carteira_hill_climb = calculaEvolucao (pd.read_csv('pesos_hill_climb.csv'))\n",
    "carteira_simulated_annealing = calculaEvolucao (pd.read_csv('pesos_sa.csv'))\n",
    "carteira_genetic_alg = calculaEvolucao(pd.read_csv('pesos_ga.csv'))"
   ]
  },
  {
   "cell_type": "code",
   "execution_count": null,
   "metadata": {},
   "outputs": [],
   "source": [
    "#Carteira Pesos Iguais\n",
    "\n",
    "n_assets = len(returns.columns)\n",
    "\n",
    "pesos_iguais = []\n",
    "for i in returns.columns:\n",
    "    pesos_iguais.append(1/n_assets)\n",
    "\n",
    "pesos_iguais = pd.array(pesos_iguais)\n",
    "\n",
    "initial_money = 10000\n",
    "\n",
    "qtd2 = (pesos_iguais * initial_money / prices.head(1)).values\n",
    "\n",
    "evolucao2 = qtd2 * prices\n",
    "evolucao2['Carteira'] = evolucao2.sum(axis=1)\n",
    "evolucao2\n",
    "\n",
    "final_money2 = evolucao2['Carteira'].tail(1).values.sum()\n",
    "final_money2"
   ]
  },
  {
   "cell_type": "code",
   "execution_count": null,
   "metadata": {},
   "outputs": [],
   "source": [
    "#BOVA\n",
    "\n",
    "prices_bova = yf.download('BOVA11.SA', start=start, end=end)['Adj Close']\n",
    "qtd_bova = initial_money / prices_bova.head(1).values\n",
    "evolucao_bova = qtd_bova*prices_bova\n",
    "final_money_bova = evolucao_bova.tail(1).values.sum()"
   ]
  },
  {
   "cell_type": "code",
   "execution_count": null,
   "metadata": {},
   "outputs": [],
   "source": [
    "grafico = pd.DataFrame()\n",
    "grafico['Carteira Otimizada - Randômica'] = carteira_randomica\n",
    "grafico['Carteira Otimizada - Hill Climb'] = carteira_hill_climb\n",
    "grafico['Carteira Otimizada - Simulated Annealing'] = carteira_simulated_annealing\n",
    "grafico['Carteira Otimizada - Genetic Alg'] = carteira_genetic_alg\n",
    "grafico['Carteira Pesos Iguais'] = evolucao2['Carteira']\n",
    "grafico['BOVA'] = evolucao_bova"
   ]
  },
  {
   "cell_type": "code",
   "execution_count": null,
   "metadata": {},
   "outputs": [],
   "source": [
    "figura = px.line(title='Comparativo - Evolução do Patrimônio')\n",
    "for i in grafico:\n",
    "  figura.add_scatter(x = grafico.index, y = grafico[i], name = i)\n",
    "\n",
    "figura.update_layout(height=750)\n",
    "figura.update_layout(font_size=18)\n",
    "figura.show()"
   ]
  }
 ],
 "metadata": {
  "kernelspec": {
   "display_name": "Python 3",
   "language": "python",
   "name": "python3"
  },
  "language_info": {
   "codemirror_mode": {
    "name": "ipython",
    "version": 3
   },
   "file_extension": ".py",
   "mimetype": "text/x-python",
   "name": "python",
   "nbconvert_exporter": "python",
   "pygments_lexer": "ipython3",
   "version": "0.0.0"
  }
 },
 "nbformat": 4,
 "nbformat_minor": 2
}
